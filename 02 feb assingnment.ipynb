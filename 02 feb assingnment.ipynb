{
 "cells": [
  {
   "cell_type": "code",
   "execution_count": null,
   "id": "0a4a4cbb-0cab-4d88-8d99-f522d72d0fc9",
   "metadata": {},
   "outputs": [],
   "source": [
    "Q1. Explain with an example each when to use a for loop and a while loop."
   ]
  },
  {
   "cell_type": "code",
   "execution_count": null,
   "id": "15ae795d-8181-49a0-a6e3-4ece8670223a",
   "metadata": {},
   "outputs": [],
   "source": [
    "Ans:1  for loop is generally used when you know the number of iterations you want to perform\n",
    "       ex: l = [1,2,3,4,5,6]\n",
    "            for i in l:\n",
    "               print (i)\n",
    "                \n",
    "                \n",
    "      While loop is used when you not know in advance how many times you need to iterate \n",
    "      ex:  \n",
    "            i = 1\n",
    "            while i <= 5:\n",
    "            print(i)\n",
    "            i =i+ 1\n"
   ]
  },
  {
   "cell_type": "code",
   "execution_count": null,
   "id": "d5157b84-b7d6-4ec5-8b37-0944b9ac4fca",
   "metadata": {},
   "outputs": [],
   "source": [
    "Q2. Write a python program to print the sum and product of the first 10 natural numbers using for\n",
    "    and while loop.\n",
    "    \n",
    "Ans:    #using for loop\n",
    "    l = [1,2,3,4,5,6,7,8,9,10]\n",
    "sum= 0\n",
    "mul=1\n",
    "for i in l:\n",
    "    sum = sum+i\n",
    "    mul = mul*i\n",
    "print (sum)\n",
    "print (mul)\n",
    "\n",
    "#using while loop\n",
    "\n",
    "\n",
    "sum = 0\n",
    "product = 1\n",
    "count = 1\n",
    "\n",
    "while count <= 10:\n",
    "    sum = sum+count\n",
    "    product= product*count\n",
    "    count = count+1\n",
    "\n",
    "print(\"Sum using while loop:\", sum)\n",
    "print(\"Product using while loop:\", product)\n",
    "\n"
   ]
  },
  {
   "cell_type": "code",
   "execution_count": null,
   "id": "dd499127-c14a-4ef0-a41c-bce32695518a",
   "metadata": {},
   "outputs": [],
   "source": [
    "Ques:3 Create a python program to compute the electricity bill for a household.\n",
    "\n",
    "The per-unit charges in rupees are as follows: For the first 100 units, the user will be charged Rs. 4.5 per\n",
    "unit, for the next 100 units, the user will be charged Rs. 6 per unit, and for the next 100 units, the user will\n",
    "be charged Rs. 10 per unit, After 300 units and above the user will be charged Rs. 20 per unit.\n",
    "\n",
    "\n",
    "Ans:  def calculate bill(units):\n",
    "    total bill = 0\n",
    "    \n",
    "    if units <= 100:\n",
    "        total bill = units * 4.5\n",
    "    elif units <= 200:\n",
    "        total bill = 100 * 4.5 + (units - 100) * 6\n",
    "    elif units <= 300:\n",
    "        total bill = 100 * 4.5 + 100 * 6 + (units - 200) * 10\n",
    "    else:\n",
    "        total bill = 100 * 4.5 + 100 * 6 + 100 * 10 + (units - 300) * 20\n",
    "        \n",
    "    return total bill\n",
    "\n",
    "units consumed = int(input(\"Enter the number of units consumed: \"))\n",
    "\n",
    "electricity bill = calculate bill(units consumed)\n",
    "print(\"Electricity bill: Rs.\", electricity bill)\n"
   ]
  },
  {
   "cell_type": "code",
   "execution_count": null,
   "id": "7f00d85e-2f97-4e90-bb56-808dad1c956f",
   "metadata": {},
   "outputs": [],
   "source": [
    "Q4. Create a list of numbers from 1 to 100. Use for loop and while loop to calculate the cube of each\n",
    "number and if the cube of that number is divisible by 4 or 5 then append that number in a list and print\n",
    "that list.\n",
    "\n",
    "\n",
    "Ans: # Using for loop\n",
    "cubes_divisible = []\n",
    "\n",
    "for num in range(1, 101):\n",
    "    cube = num ** 3\n",
    "    if cube % 4 == 0 or cube % 5 == 0:\n",
    "        cubes_divisible.append(num)\n",
    "\n",
    "print(\"Numbers whose cube is divisible by 4 or 5 (using for loop):\", cubes_divisible)\n",
    "\n",
    "\n",
    "\n",
    "# Using while loop\n",
    "cubes_divisible_while = []\n",
    "num = 1\n",
    "\n",
    "while num <= 100:\n",
    "    cube = num ** 3\n",
    "    if cube % 4 == 0 or cube % 5 == 0:\n",
    "        cubes_divisible_while.append(num)\n",
    "    num += 1\n",
    "\n",
    "print(\"Numbers whose cube is divisible by 4 or 5 (using while loop):\", cubes_divisible_while)\n",
    "\n"
   ]
  },
  {
   "cell_type": "code",
   "execution_count": null,
   "id": "b19aa5d5-da12-4b10-ab80-9c2ef197aeee",
   "metadata": {},
   "outputs": [],
   "source": [
    "Q5. Write a program to filter count vowels in the below-given string.\n",
    "string = \"I want to become a data scientist\"\n",
    "\n",
    "Ans:\n",
    "    \n",
    "    string = \"I want to become a data scientist\"\n",
    "vowels = 'aeiouAEIOU'\n",
    "vowel_count = 0\n",
    "\n",
    "for char in string:\n",
    "    if char in vowels:\n",
    "        vowel_count += 1\n",
    "\n",
    "print(\"Number of vowels in the string:\", vowel_count)\n"
   ]
  },
  {
   "cell_type": "code",
   "execution_count": null,
   "id": "79b6816c-2d29-4fe9-beef-1973f2116df3",
   "metadata": {},
   "outputs": [],
   "source": []
  },
  {
   "cell_type": "code",
   "execution_count": null,
   "id": "1a0e80f5-5d61-4273-8d90-7e4bc2b4880e",
   "metadata": {},
   "outputs": [],
   "source": []
  }
 ],
 "metadata": {
  "kernelspec": {
   "display_name": "Python 3 (ipykernel)",
   "language": "python",
   "name": "python3"
  },
  "language_info": {
   "codemirror_mode": {
    "name": "ipython",
    "version": 3
   },
   "file_extension": ".py",
   "mimetype": "text/x-python",
   "name": "python",
   "nbconvert_exporter": "python",
   "pygments_lexer": "ipython3",
   "version": "3.10.8"
  }
 },
 "nbformat": 4,
 "nbformat_minor": 5
}
